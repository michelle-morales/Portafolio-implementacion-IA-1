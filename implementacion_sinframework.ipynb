{
  "nbformat": 4,
  "nbformat_minor": 0,
  "metadata": {
    "colab": {
      "provenance": []
    },
    "kernelspec": {
      "name": "python3",
      "display_name": "Python 3"
    },
    "language_info": {
      "name": "python"
    }
  },
  "cells": [
    {
      "cell_type": "markdown",
      "source": [
        "Implementacion de regresión lineal\n",
        "\n",
        "Michelle Yareni Morales Ramón A01552627"
      ],
      "metadata": {
        "id": "1MxpxIfrOIrA"
      }
    },
    {
      "cell_type": "code",
      "source": [
        "import pandas as pd"
      ],
      "metadata": {
        "id": "jlnzwwUTGmX9"
      },
      "execution_count": 19,
      "outputs": []
    },
    {
      "cell_type": "markdown",
      "source": [
        "Importar datos"
      ],
      "metadata": {
        "id": "KgBw-F3lZKes"
      }
    },
    {
      "cell_type": "code",
      "execution_count": 2,
      "metadata": {
        "id": "DHNL3BBoNk4H",
        "colab": {
          "base_uri": "https://localhost:8080/"
        },
        "outputId": "bb9d558f-4bff-4b49-8b3b-c4ee573d9d01"
      },
      "outputs": [
        {
          "output_type": "stream",
          "name": "stdout",
          "text": [
            "Mounted at /content/gdrive\n"
          ]
        }
      ],
      "source": [
        "from google.colab import drive\n",
        "drive.mount('/content/gdrive')"
      ]
    },
    {
      "cell_type": "code",
      "source": [
        "df=pd.read_csv('/content/gdrive/MyDrive/IA_concentracion/co2_prueba.csv')"
      ],
      "metadata": {
        "id": "Pj8qFH6GC8y4"
      },
      "execution_count": 20,
      "outputs": []
    },
    {
      "cell_type": "code",
      "source": [
        "df"
      ],
      "metadata": {
        "colab": {
          "base_uri": "https://localhost:8080/",
          "height": 615
        },
        "id": "J6qYyIYGNdIx",
        "outputId": "3d341197-3b43-45c2-e241-98479eff4661"
      },
      "execution_count": 21,
      "outputs": [
        {
          "output_type": "execute_result",
          "data": {
            "text/plain": [
              "       Make        Model   Vehicle Class  Engine Size(L)  Cylinders  \\\n",
              "0     ACURA          ILX         COMPACT             2.0          4   \n",
              "1     ACURA          ILX         COMPACT             2.4          4   \n",
              "2     ACURA   ILX HYBRID         COMPACT             1.5          4   \n",
              "3     ACURA      MDX 4WD     SUV - SMALL             3.5          6   \n",
              "4     ACURA      RDX AWD     SUV - SMALL             3.5          6   \n",
              "...     ...          ...             ...             ...        ...   \n",
              "7380  VOLVO  XC40 T5 AWD     SUV - SMALL             2.0          4   \n",
              "7381  VOLVO  XC60 T5 AWD     SUV - SMALL             2.0          4   \n",
              "7382  VOLVO  XC60 T6 AWD     SUV - SMALL             2.0          4   \n",
              "7383  VOLVO  XC90 T5 AWD  SUV - STANDARD             2.0          4   \n",
              "7384  VOLVO  XC90 T6 AWD  SUV - STANDARD             2.0          4   \n",
              "\n",
              "     Transmission Fuel Type  Fuel Consumption City (L/100 km)  \\\n",
              "0             AS5         Z                               9.9   \n",
              "1              M6         Z                              11.2   \n",
              "2             AV7         Z                               6.0   \n",
              "3             AS6         Z                              12.7   \n",
              "4             AS6         Z                              12.1   \n",
              "...           ...       ...                               ...   \n",
              "7380          AS8         Z                              10.7   \n",
              "7381          AS8         Z                              11.2   \n",
              "7382          AS8         Z                              11.7   \n",
              "7383          AS8         Z                              11.2   \n",
              "7384          AS8         Z                              12.2   \n",
              "\n",
              "      Fuel Consumption Hwy (L/100 km)  Fuel Consumption Comb (L/100 km)  \\\n",
              "0                                 6.7                               8.5   \n",
              "1                                 7.7                               9.6   \n",
              "2                                 5.8                               5.9   \n",
              "3                                 9.1                              11.1   \n",
              "4                                 8.7                              10.6   \n",
              "...                               ...                               ...   \n",
              "7380                              7.7                               9.4   \n",
              "7381                              8.3                               9.9   \n",
              "7382                              8.6                              10.3   \n",
              "7383                              8.3                               9.9   \n",
              "7384                              8.7                              10.7   \n",
              "\n",
              "      Fuel Consumption Comb (mpg)  CO2 Emissions(g/km)  \n",
              "0                              33                  196  \n",
              "1                              29                  221  \n",
              "2                              48                  136  \n",
              "3                              25                  255  \n",
              "4                              27                  244  \n",
              "...                           ...                  ...  \n",
              "7380                           30                  219  \n",
              "7381                           29                  232  \n",
              "7382                           27                  240  \n",
              "7383                           29                  232  \n",
              "7384                           26                  248  \n",
              "\n",
              "[7385 rows x 12 columns]"
            ],
            "text/html": [
              "\n",
              "  <div id=\"df-3d5526c1-d5c3-4382-9fb6-75b5f3c0d97e\" class=\"colab-df-container\">\n",
              "    <div>\n",
              "<style scoped>\n",
              "    .dataframe tbody tr th:only-of-type {\n",
              "        vertical-align: middle;\n",
              "    }\n",
              "\n",
              "    .dataframe tbody tr th {\n",
              "        vertical-align: top;\n",
              "    }\n",
              "\n",
              "    .dataframe thead th {\n",
              "        text-align: right;\n",
              "    }\n",
              "</style>\n",
              "<table border=\"1\" class=\"dataframe\">\n",
              "  <thead>\n",
              "    <tr style=\"text-align: right;\">\n",
              "      <th></th>\n",
              "      <th>Make</th>\n",
              "      <th>Model</th>\n",
              "      <th>Vehicle Class</th>\n",
              "      <th>Engine Size(L)</th>\n",
              "      <th>Cylinders</th>\n",
              "      <th>Transmission</th>\n",
              "      <th>Fuel Type</th>\n",
              "      <th>Fuel Consumption City (L/100 km)</th>\n",
              "      <th>Fuel Consumption Hwy (L/100 km)</th>\n",
              "      <th>Fuel Consumption Comb (L/100 km)</th>\n",
              "      <th>Fuel Consumption Comb (mpg)</th>\n",
              "      <th>CO2 Emissions(g/km)</th>\n",
              "    </tr>\n",
              "  </thead>\n",
              "  <tbody>\n",
              "    <tr>\n",
              "      <th>0</th>\n",
              "      <td>ACURA</td>\n",
              "      <td>ILX</td>\n",
              "      <td>COMPACT</td>\n",
              "      <td>2.0</td>\n",
              "      <td>4</td>\n",
              "      <td>AS5</td>\n",
              "      <td>Z</td>\n",
              "      <td>9.9</td>\n",
              "      <td>6.7</td>\n",
              "      <td>8.5</td>\n",
              "      <td>33</td>\n",
              "      <td>196</td>\n",
              "    </tr>\n",
              "    <tr>\n",
              "      <th>1</th>\n",
              "      <td>ACURA</td>\n",
              "      <td>ILX</td>\n",
              "      <td>COMPACT</td>\n",
              "      <td>2.4</td>\n",
              "      <td>4</td>\n",
              "      <td>M6</td>\n",
              "      <td>Z</td>\n",
              "      <td>11.2</td>\n",
              "      <td>7.7</td>\n",
              "      <td>9.6</td>\n",
              "      <td>29</td>\n",
              "      <td>221</td>\n",
              "    </tr>\n",
              "    <tr>\n",
              "      <th>2</th>\n",
              "      <td>ACURA</td>\n",
              "      <td>ILX HYBRID</td>\n",
              "      <td>COMPACT</td>\n",
              "      <td>1.5</td>\n",
              "      <td>4</td>\n",
              "      <td>AV7</td>\n",
              "      <td>Z</td>\n",
              "      <td>6.0</td>\n",
              "      <td>5.8</td>\n",
              "      <td>5.9</td>\n",
              "      <td>48</td>\n",
              "      <td>136</td>\n",
              "    </tr>\n",
              "    <tr>\n",
              "      <th>3</th>\n",
              "      <td>ACURA</td>\n",
              "      <td>MDX 4WD</td>\n",
              "      <td>SUV - SMALL</td>\n",
              "      <td>3.5</td>\n",
              "      <td>6</td>\n",
              "      <td>AS6</td>\n",
              "      <td>Z</td>\n",
              "      <td>12.7</td>\n",
              "      <td>9.1</td>\n",
              "      <td>11.1</td>\n",
              "      <td>25</td>\n",
              "      <td>255</td>\n",
              "    </tr>\n",
              "    <tr>\n",
              "      <th>4</th>\n",
              "      <td>ACURA</td>\n",
              "      <td>RDX AWD</td>\n",
              "      <td>SUV - SMALL</td>\n",
              "      <td>3.5</td>\n",
              "      <td>6</td>\n",
              "      <td>AS6</td>\n",
              "      <td>Z</td>\n",
              "      <td>12.1</td>\n",
              "      <td>8.7</td>\n",
              "      <td>10.6</td>\n",
              "      <td>27</td>\n",
              "      <td>244</td>\n",
              "    </tr>\n",
              "    <tr>\n",
              "      <th>...</th>\n",
              "      <td>...</td>\n",
              "      <td>...</td>\n",
              "      <td>...</td>\n",
              "      <td>...</td>\n",
              "      <td>...</td>\n",
              "      <td>...</td>\n",
              "      <td>...</td>\n",
              "      <td>...</td>\n",
              "      <td>...</td>\n",
              "      <td>...</td>\n",
              "      <td>...</td>\n",
              "      <td>...</td>\n",
              "    </tr>\n",
              "    <tr>\n",
              "      <th>7380</th>\n",
              "      <td>VOLVO</td>\n",
              "      <td>XC40 T5 AWD</td>\n",
              "      <td>SUV - SMALL</td>\n",
              "      <td>2.0</td>\n",
              "      <td>4</td>\n",
              "      <td>AS8</td>\n",
              "      <td>Z</td>\n",
              "      <td>10.7</td>\n",
              "      <td>7.7</td>\n",
              "      <td>9.4</td>\n",
              "      <td>30</td>\n",
              "      <td>219</td>\n",
              "    </tr>\n",
              "    <tr>\n",
              "      <th>7381</th>\n",
              "      <td>VOLVO</td>\n",
              "      <td>XC60 T5 AWD</td>\n",
              "      <td>SUV - SMALL</td>\n",
              "      <td>2.0</td>\n",
              "      <td>4</td>\n",
              "      <td>AS8</td>\n",
              "      <td>Z</td>\n",
              "      <td>11.2</td>\n",
              "      <td>8.3</td>\n",
              "      <td>9.9</td>\n",
              "      <td>29</td>\n",
              "      <td>232</td>\n",
              "    </tr>\n",
              "    <tr>\n",
              "      <th>7382</th>\n",
              "      <td>VOLVO</td>\n",
              "      <td>XC60 T6 AWD</td>\n",
              "      <td>SUV - SMALL</td>\n",
              "      <td>2.0</td>\n",
              "      <td>4</td>\n",
              "      <td>AS8</td>\n",
              "      <td>Z</td>\n",
              "      <td>11.7</td>\n",
              "      <td>8.6</td>\n",
              "      <td>10.3</td>\n",
              "      <td>27</td>\n",
              "      <td>240</td>\n",
              "    </tr>\n",
              "    <tr>\n",
              "      <th>7383</th>\n",
              "      <td>VOLVO</td>\n",
              "      <td>XC90 T5 AWD</td>\n",
              "      <td>SUV - STANDARD</td>\n",
              "      <td>2.0</td>\n",
              "      <td>4</td>\n",
              "      <td>AS8</td>\n",
              "      <td>Z</td>\n",
              "      <td>11.2</td>\n",
              "      <td>8.3</td>\n",
              "      <td>9.9</td>\n",
              "      <td>29</td>\n",
              "      <td>232</td>\n",
              "    </tr>\n",
              "    <tr>\n",
              "      <th>7384</th>\n",
              "      <td>VOLVO</td>\n",
              "      <td>XC90 T6 AWD</td>\n",
              "      <td>SUV - STANDARD</td>\n",
              "      <td>2.0</td>\n",
              "      <td>4</td>\n",
              "      <td>AS8</td>\n",
              "      <td>Z</td>\n",
              "      <td>12.2</td>\n",
              "      <td>8.7</td>\n",
              "      <td>10.7</td>\n",
              "      <td>26</td>\n",
              "      <td>248</td>\n",
              "    </tr>\n",
              "  </tbody>\n",
              "</table>\n",
              "<p>7385 rows × 12 columns</p>\n",
              "</div>\n",
              "    <div class=\"colab-df-buttons\">\n",
              "\n",
              "  <div class=\"colab-df-container\">\n",
              "    <button class=\"colab-df-convert\" onclick=\"convertToInteractive('df-3d5526c1-d5c3-4382-9fb6-75b5f3c0d97e')\"\n",
              "            title=\"Convert this dataframe to an interactive table.\"\n",
              "            style=\"display:none;\">\n",
              "\n",
              "  <svg xmlns=\"http://www.w3.org/2000/svg\" height=\"24px\" viewBox=\"0 -960 960 960\">\n",
              "    <path d=\"M120-120v-720h720v720H120Zm60-500h600v-160H180v160Zm220 220h160v-160H400v160Zm0 220h160v-160H400v160ZM180-400h160v-160H180v160Zm440 0h160v-160H620v160ZM180-180h160v-160H180v160Zm440 0h160v-160H620v160Z\"/>\n",
              "  </svg>\n",
              "    </button>\n",
              "\n",
              "  <style>\n",
              "    .colab-df-container {\n",
              "      display:flex;\n",
              "      gap: 12px;\n",
              "    }\n",
              "\n",
              "    .colab-df-convert {\n",
              "      background-color: #E8F0FE;\n",
              "      border: none;\n",
              "      border-radius: 50%;\n",
              "      cursor: pointer;\n",
              "      display: none;\n",
              "      fill: #1967D2;\n",
              "      height: 32px;\n",
              "      padding: 0 0 0 0;\n",
              "      width: 32px;\n",
              "    }\n",
              "\n",
              "    .colab-df-convert:hover {\n",
              "      background-color: #E2EBFA;\n",
              "      box-shadow: 0px 1px 2px rgba(60, 64, 67, 0.3), 0px 1px 3px 1px rgba(60, 64, 67, 0.15);\n",
              "      fill: #174EA6;\n",
              "    }\n",
              "\n",
              "    .colab-df-buttons div {\n",
              "      margin-bottom: 4px;\n",
              "    }\n",
              "\n",
              "    [theme=dark] .colab-df-convert {\n",
              "      background-color: #3B4455;\n",
              "      fill: #D2E3FC;\n",
              "    }\n",
              "\n",
              "    [theme=dark] .colab-df-convert:hover {\n",
              "      background-color: #434B5C;\n",
              "      box-shadow: 0px 1px 3px 1px rgba(0, 0, 0, 0.15);\n",
              "      filter: drop-shadow(0px 1px 2px rgba(0, 0, 0, 0.3));\n",
              "      fill: #FFFFFF;\n",
              "    }\n",
              "  </style>\n",
              "\n",
              "    <script>\n",
              "      const buttonEl =\n",
              "        document.querySelector('#df-3d5526c1-d5c3-4382-9fb6-75b5f3c0d97e button.colab-df-convert');\n",
              "      buttonEl.style.display =\n",
              "        google.colab.kernel.accessAllowed ? 'block' : 'none';\n",
              "\n",
              "      async function convertToInteractive(key) {\n",
              "        const element = document.querySelector('#df-3d5526c1-d5c3-4382-9fb6-75b5f3c0d97e');\n",
              "        const dataTable =\n",
              "          await google.colab.kernel.invokeFunction('convertToInteractive',\n",
              "                                                    [key], {});\n",
              "        if (!dataTable) return;\n",
              "\n",
              "        const docLinkHtml = 'Like what you see? Visit the ' +\n",
              "          '<a target=\"_blank\" href=https://colab.research.google.com/notebooks/data_table.ipynb>data table notebook</a>'\n",
              "          + ' to learn more about interactive tables.';\n",
              "        element.innerHTML = '';\n",
              "        dataTable['output_type'] = 'display_data';\n",
              "        await google.colab.output.renderOutput(dataTable, element);\n",
              "        const docLink = document.createElement('div');\n",
              "        docLink.innerHTML = docLinkHtml;\n",
              "        element.appendChild(docLink);\n",
              "      }\n",
              "    </script>\n",
              "  </div>\n",
              "\n",
              "\n",
              "<div id=\"df-3885d38d-3239-47e1-a6c2-7018ffabe140\">\n",
              "  <button class=\"colab-df-quickchart\" onclick=\"quickchart('df-3885d38d-3239-47e1-a6c2-7018ffabe140')\"\n",
              "            title=\"Suggest charts.\"\n",
              "            style=\"display:none;\">\n",
              "\n",
              "<svg xmlns=\"http://www.w3.org/2000/svg\" height=\"24px\"viewBox=\"0 0 24 24\"\n",
              "     width=\"24px\">\n",
              "    <g>\n",
              "        <path d=\"M19 3H5c-1.1 0-2 .9-2 2v14c0 1.1.9 2 2 2h14c1.1 0 2-.9 2-2V5c0-1.1-.9-2-2-2zM9 17H7v-7h2v7zm4 0h-2V7h2v10zm4 0h-2v-4h2v4z\"/>\n",
              "    </g>\n",
              "</svg>\n",
              "  </button>\n",
              "\n",
              "<style>\n",
              "  .colab-df-quickchart {\n",
              "    background-color: #E8F0FE;\n",
              "    border: none;\n",
              "    border-radius: 50%;\n",
              "    cursor: pointer;\n",
              "    display: none;\n",
              "    fill: #1967D2;\n",
              "    height: 32px;\n",
              "    padding: 0 0 0 0;\n",
              "    width: 32px;\n",
              "  }\n",
              "\n",
              "  .colab-df-quickchart:hover {\n",
              "    background-color: #E2EBFA;\n",
              "    box-shadow: 0px 1px 2px rgba(60, 64, 67, 0.3), 0px 1px 3px 1px rgba(60, 64, 67, 0.15);\n",
              "    fill: #174EA6;\n",
              "  }\n",
              "\n",
              "  [theme=dark] .colab-df-quickchart {\n",
              "    background-color: #3B4455;\n",
              "    fill: #D2E3FC;\n",
              "  }\n",
              "\n",
              "  [theme=dark] .colab-df-quickchart:hover {\n",
              "    background-color: #434B5C;\n",
              "    box-shadow: 0px 1px 3px 1px rgba(0, 0, 0, 0.15);\n",
              "    filter: drop-shadow(0px 1px 2px rgba(0, 0, 0, 0.3));\n",
              "    fill: #FFFFFF;\n",
              "  }\n",
              "</style>\n",
              "\n",
              "  <script>\n",
              "    async function quickchart(key) {\n",
              "      const charts = await google.colab.kernel.invokeFunction(\n",
              "          'suggestCharts', [key], {});\n",
              "    }\n",
              "    (() => {\n",
              "      let quickchartButtonEl =\n",
              "        document.querySelector('#df-3885d38d-3239-47e1-a6c2-7018ffabe140 button');\n",
              "      quickchartButtonEl.style.display =\n",
              "        google.colab.kernel.accessAllowed ? 'block' : 'none';\n",
              "    })();\n",
              "  </script>\n",
              "</div>\n",
              "    </div>\n",
              "  </div>\n"
            ]
          },
          "metadata": {},
          "execution_count": 21
        }
      ]
    },
    {
      "cell_type": "markdown",
      "source": [
        "Parametros iniciales.\n",
        "\n",
        "Después de modificar los parametros iniciales en varias ocaciones se elegieron los siguientes, ya que estos reducían el error.\n",
        "\n",
        "tetha 0 = 20\n",
        "\n",
        "tetha 1 = 7\n",
        "\n",
        "alpha = 0.0005\n",
        "\n",
        "iteraciones = 1000\n",
        "\n",
        "Para el conjunto x se elegio la variable 'Fuel Consumption Comb (mpg)' y se dividio, la mitad para train y la otra mitad para test.\n",
        "\n",
        "La variable a predecir y es 'CO2 Emissions(g/km)' e igual se dividio la mita para train y la mitad para test."
      ],
      "metadata": {
        "id": "FwQyjRanZNJE"
      }
    },
    {
      "cell_type": "code",
      "source": [
        "#parametros iniciales\n",
        "#tetha\n",
        "t=[20,7]\n",
        "#x,y\n",
        "mitad=len(df)//2\n",
        "#train\n",
        "x = df['Fuel Consumption Comb (mpg)'].head(mitad)\n",
        "y = df['CO2 Emissions(g/km)'].head(mitad)\n",
        "\n",
        "#test\n",
        "x_test = df['Fuel Consumption Comb (mpg)'].tail(mitad)\n",
        "y_test = df['CO2 Emissions(g/km)'].tail(mitad)\n",
        "#alpha\n",
        "a=0.0005\n",
        "\n",
        "#numero de iteraciones\n",
        "it=1000"
      ],
      "metadata": {
        "id": "R1--HTrqKfk7"
      },
      "execution_count": 84,
      "outputs": []
    },
    {
      "cell_type": "code",
      "source": [
        "# Crear función lambda para la función de hipótesis\n",
        "h = lambda X,t: t[0]+t[1]*X\n",
        "# Calcular el total de muestras a partir de los datos (n)\n",
        "n = len(x)"
      ],
      "metadata": {
        "id": "uvc3b18EE0iK"
      },
      "execution_count": 85,
      "outputs": []
    },
    {
      "cell_type": "code",
      "source": [
        "for i in range(it):\n",
        "  delta = []\n",
        "  delta_xi = []\n",
        "\n",
        "  for xi, yi in zip(x, y):\n",
        "      pred = h(xi, t)  # Predicción\n",
        "      # Calcular delta para theta0 y para cada muestra\n",
        "      delta.append(pred - yi)\n",
        "      # Calcular delta para theta1 y para cada muestra\n",
        "      delta_xi.append((pred - yi) * xi)\n",
        "\n",
        "  # Calcular sumatorias y promedio\n",
        "  djt0 = sum(delta) / n\n",
        "  djt1 = sum(delta_xi) / n\n",
        "\n",
        "  dj = [djt0, djt1]\n",
        "\n",
        "  #actualizacion de tetha\n",
        "  for i in range(len(t)):\n",
        "    t[i]=t[i]-a*dj[i]\n",
        "\n",
        "#tetha final\n",
        "t"
      ],
      "metadata": {
        "colab": {
          "base_uri": "https://localhost:8080/"
        },
        "id": "LgVZoIU2E8H6",
        "outputId": "729025a8-6692-48f9-923e-7bfff03153c5"
      },
      "execution_count": 86,
      "outputs": [
        {
          "output_type": "execute_result",
          "data": {
            "text/plain": [
              "[33.68514286968843, 7.027344176117499]"
            ]
          },
          "metadata": {},
          "execution_count": 86
        }
      ]
    },
    {
      "cell_type": "markdown",
      "source": [
        "Finalmente se evaluó el modelo con los datos x_test y_test.\n",
        "\n",
        "MSE = 11924.34\n",
        "\n",
        "MAE = 85.86\n",
        "\n",
        "R2 = -2.55"
      ],
      "metadata": {
        "id": "C3KNE7QiatiT"
      }
    },
    {
      "cell_type": "code",
      "source": [
        "#test\n",
        "# predicciones\n",
        "p=[]\n",
        "\n",
        "# Barrer la entrada y estimar las salidas:\n",
        "for xi in x_test:\n",
        "  # Usar función de hipótesis\n",
        "  pred = h(xi, t)\n",
        "  p.append(pred)\n"
      ],
      "metadata": {
        "id": "SHbCBWlHFC-o"
      },
      "execution_count": 87,
      "outputs": []
    },
    {
      "cell_type": "code",
      "source": [
        "def mean_squared_error(y_true, y_pred):\n",
        "    n = len(y_true)\n",
        "    mse = sum((y_true - y_pred) ** 2) / n\n",
        "    return mse\n",
        "\n",
        "mse = mean_squared_error(y_test, p)\n",
        "print(\"Mean Squared Error:\", mse)"
      ],
      "metadata": {
        "colab": {
          "base_uri": "https://localhost:8080/"
        },
        "id": "59oMZ9ukFHcV",
        "outputId": "65f53b2f-d574-44bd-9028-481b002fbaab"
      },
      "execution_count": 88,
      "outputs": [
        {
          "output_type": "stream",
          "name": "stdout",
          "text": [
            "Mean Squared Error: 11924.346262710691\n"
          ]
        }
      ]
    },
    {
      "cell_type": "code",
      "source": [
        "def mean_absolute_error(y_true, y_pred):\n",
        "    n = len(y_true)\n",
        "    mae = sum(abs(y_true - y_pred)) / n\n",
        "    return mae\n",
        "\n",
        "mae = mean_absolute_error(y_test, p)\n",
        "print(\"Mean Absolute Error:\", mae)"
      ],
      "metadata": {
        "colab": {
          "base_uri": "https://localhost:8080/"
        },
        "id": "XTiFDQQ5FKAV",
        "outputId": "c0ede65f-7c40-4bfd-84ab-2bb70b8b0a23"
      },
      "execution_count": 89,
      "outputs": [
        {
          "output_type": "stream",
          "name": "stdout",
          "text": [
            "Mean Absolute Error: 85.8600261660259\n"
          ]
        }
      ]
    },
    {
      "cell_type": "code",
      "source": [
        "def r_squared(y_true, y_pred):\n",
        "    y_mean = sum(y_true) / len(y_true)\n",
        "    ss_total = sum((y_true - y_mean) ** 2)\n",
        "    ss_res = sum((y_true - y_pred) ** 2)\n",
        "    r2 = 1 - (ss_res / ss_total)\n",
        "    return r2\n",
        "\n",
        "r2 = r_squared(y_test, p)\n",
        "print(\"R-squared:\", r2)"
      ],
      "metadata": {
        "colab": {
          "base_uri": "https://localhost:8080/"
        },
        "id": "-CTj9JqVOnu_",
        "outputId": "af062a2c-5b10-403e-f557-61817b3e17d7"
      },
      "execution_count": 90,
      "outputs": [
        {
          "output_type": "stream",
          "name": "stdout",
          "text": [
            "R-squared: -2.554380262861113\n"
          ]
        }
      ]
    }
  ]
}